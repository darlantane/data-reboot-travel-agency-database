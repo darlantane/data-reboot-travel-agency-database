{
 "cells": [
  {
   "cell_type": "markdown",
   "metadata": {
    "id": "-GZaVHIylfhC"
   },
   "source": [
    "# Travel agency\n",
    "\n"
   ]
  },
  {
   "cell_type": "markdown",
   "metadata": {
    "id": "OXuaW1Ey74eO"
   },
   "source": [
    "Today, you are working at a travel agency. All the cities covered by this agency are stored in a Python dictionary.\n",
    "\n",
    "\n",
    "They need your newly acquired Python skills to develop useful functions!"
   ]
  },
  {
   "cell_type": "markdown",
   "metadata": {
    "id": "Ot9XlCT-8d5w"
   },
   "source": [
    "## Task 1 - Get information for one city\n"
   ]
  },
  {
   "cell_type": "markdown",
   "metadata": {
    "id": "0TklkrRAl8iD"
   },
   "source": [
    "The information about a city is provided in a single dictionary. Let's take a look at an example below.\n",
    "\n",
    "Please note that:\n",
    "- `location` corresponds to latitude and longitude\n",
    "- `prefecture_level` is measured in km<sup>2</sup> (squared kilometers)"
   ]
  },
  {
   "cell_type": "code",
   "execution_count": null,
   "metadata": {
    "id": "L4hhUpgFl9Q1"
   },
   "outputs": [],
   "source": [
    "paris_city = {\"name\": \"Paris\",\n",
    "              \"total_population\": 2102650,\n",
    "              \"continent\": \"Europe\",\n",
    "              \"location\": [48.8566, 2.3522],\n",
    "              \"area\": {\n",
    "                  \"prefecture_level\": 105.4\n",
    "              }}"
   ]
  },
  {
   "cell_type": "code",
   "execution_count": null,
   "metadata": {},
   "outputs": [],
   "source": [
    "paris_city"
   ]
  },
  {
   "cell_type": "markdown",
   "metadata": {
    "id": "x6Xa65XVAw_4"
   },
   "source": [
    "What is the data type of the value of `location`? What about `area`?\n"
   ]
  },
  {
   "cell_type": "code",
   "execution_count": null,
   "metadata": {
    "tags": [
     "challengify"
    ]
   },
   "outputs": [],
   "source": [
    "# YOUR CODE HERE"
   ]
  },
  {
   "cell_type": "markdown",
   "metadata": {
    "id": "FTD6Z3lPEStU"
   },
   "source": [
    "How do we get the `prefecture_level` from `paris_city` ?\n",
    "\n",
    "\n"
   ]
  },
  {
   "cell_type": "code",
   "execution_count": null,
   "metadata": {
    "tags": [
     "challengify"
    ]
   },
   "outputs": [],
   "source": [
    "# YOUR CODE HERE"
   ]
  },
  {
   "cell_type": "markdown",
   "metadata": {
    "id": "0gbqOyRiEcYX"
   },
   "source": [
    "How do we get the `longitude` from `paris_city` ?\n",
    "\n"
   ]
  },
  {
   "cell_type": "code",
   "execution_count": null,
   "metadata": {
    "tags": [
     "challengify"
    ]
   },
   "outputs": [],
   "source": [
    "# YOUR CODE HERE"
   ]
  },
  {
   "cell_type": "markdown",
   "metadata": {
    "id": "CRhMbQ-GlfXC"
   },
   "source": [
    "### Create a function\n",
    "\n",
    "Create a function `get_key_value_from_city` that takes two arguments `city` and `key` and outputs the corresponding value for the city.\n",
    "\n",
    "\n",
    "\n",
    "__E.g__: `get_key_value_from_city(city=paris_city, key=\"total_population\")` will output 2102650\n",
    "\n",
    "\n",
    "<u>Note:</u> If a key doesn't exist, the function should return \"_\\<key\\>_ not defined\"\n",
    "    \n",
    "\n",
    "\n",
    "\n"
   ]
  },
  {
   "cell_type": "code",
   "execution_count": null,
   "metadata": {
    "tags": [
     "challengify"
    ]
   },
   "outputs": [],
   "source": [
    "# YOUR CODE HERE"
   ]
  },
  {
   "cell_type": "markdown",
   "metadata": {
    "id": "T_pIQ8wW_S5k"
   },
   "source": [
    "## Task 2 - Get information for all cities\n",
    "\n"
   ]
  },
  {
   "cell_type": "markdown",
   "metadata": {
    "id": "E6npEinSHZOr"
   },
   "source": [
    "The travel agency has collected information about multiple cities where it manages accommodations.\n",
    "All the information for these cities is stored in a Python list called `cities`."
   ]
  },
  {
   "cell_type": "markdown",
   "metadata": {
    "id": "2BSHTaHyBB9g"
   },
   "source": [
    "Execute the cell below to load the data"
   ]
  },
  {
   "cell_type": "code",
   "execution_count": null,
   "metadata": {},
   "outputs": [],
   "source": [
    "cities = [\n",
    "    {\n",
    "        \"name\": \"Paris\",\n",
    "        \"total_population\": 2102650,\n",
    "        \"continent\": \"Europe\",\n",
    "        \"location\": [48.8566, 2.3522],\n",
    "        \"area\": {\n",
    "            \"prefecture_level\": 105.4\n",
    "        }\n",
    "    },\n",
    "    {\n",
    "        \"name\": \"Xi’an\",\n",
    "        \"total_population\": 12328000,\n",
    "        \"continent\": \"Asia\",\n",
    "        \"location\": [34.2667, 108.9000],\n",
    "        \"area\": {\n",
    "            \"prefecture_level\": 10762\n",
    "        }\n",
    "    },\n",
    "    {\n",
    "        \"name\": \"Chengdu\",\n",
    "        \"total_population\": 14645000,\n",
    "        \"continent\": \"Asia\",\n",
    "        \"location\": [30.6600, 104.0633],\n",
    "        \"area\": {\n",
    "            \"prefecture_level\": 14378\n",
    "        }\n",
    "    },\n",
    "    {\n",
    "        \"name\": \"Los Angeles\",\n",
    "        \"total_population\": 12121244,\n",
    "        \"continent\": \"North America\",\n",
    "        \"location\": [34.1141, -118.4068],\n",
    "        \"area\": {\n",
    "            \"prefecture_level\": 1299\n",
    "        }\n",
    "    },\n",
    "    {\n",
    "        \"name\": \"Brooklyn\",\n",
    "        \"total_population\": 2736074,\n",
    "        \"continent\": \"North America\",\n",
    "        \"location\": [40.6501, -73.9496],\n",
    "        \"area\": {\n",
    "            \"prefecture_level\": 180\n",
    "        }\n",
    "    }\n",
    "]"
   ]
  },
  {
   "cell_type": "markdown",
   "metadata": {
    "id": "KQGOVtGB6rAR"
   },
   "source": [
    "How many cities do they have?"
   ]
  },
  {
   "cell_type": "code",
   "execution_count": null,
   "metadata": {
    "tags": [
     "challengify"
    ]
   },
   "outputs": [],
   "source": [
    "# YOUR CODE HERE"
   ]
  },
  {
   "cell_type": "markdown",
   "metadata": {
    "id": "Go4ukXAz6NkN"
   },
   "source": [
    "### Reading values\n",
    "\n"
   ]
  },
  {
   "cell_type": "markdown",
   "metadata": {
    "id": "khUbLMYTL-CN"
   },
   "source": [
    "By utilizing your previous function `get_key_value_from_city` create a new one that will take two arguments: a `city_name` and a `key`.\n",
    "\n",
    "If the city is not in the list, the function should return \"*city* doesn't exist or is not covered\".\n",
    "\n",
    "Test your function with multiple examples."
   ]
  },
  {
   "cell_type": "code",
   "execution_count": null,
   "metadata": {
    "tags": [
     "challengify"
    ]
   },
   "outputs": [],
   "source": [
    "# YOUR CODE HERE"
   ]
  },
  {
   "cell_type": "markdown",
   "metadata": {
    "id": "dKjDW-OY6NkN"
   },
   "source": [
    "### Updating values\n"
   ]
  },
  {
   "cell_type": "markdown",
   "metadata": {
    "id": "co-Z53zYCnAN"
   },
   "source": [
    "Sometimes, city information can be incorrect or requires updates.\n",
    "\n",
    "Create a `modify_city_key_value` function that replaces an existing key's value with a new one. \\\n",
    "It takes three arguments: a `city_name`, a `key` and a new `value` to assign to the key.\n",
    "\n",
    "The function will generate a text message indicating one of the following scenarios:\n",
    "\n",
    "- If the city doesn't exist or is not covered: \"*city* doesn't exist or is not covered.\"\n",
    "- If the provided key doesn't exist: \"*key* doesn't exist.\"\n",
    "- If the key has been successfully updated for the city: \"*key* has been updated for *city*.\""
   ]
  },
  {
   "cell_type": "code",
   "execution_count": null,
   "metadata": {
    "tags": [
     "challengify"
    ]
   },
   "outputs": [],
   "source": [
    "# YOUR CODE HERE"
   ]
  },
  {
   "cell_type": "markdown",
   "metadata": {
    "id": "YfHEZCpEFMi9"
   },
   "source": [
    "## Task 3 - Create a search engine"
   ]
  },
  {
   "cell_type": "markdown",
   "metadata": {
    "id": "3pKSC0beFRch"
   },
   "source": [
    "It is quite common for customers to seek destinations that are not far from their current location in order to minimize transportation costs.\n",
    "\n",
    "\n",
    "The travel agency requires your assistance in developing a function that can provide a list of nearby cities."
   ]
  },
  {
   "cell_type": "markdown",
   "metadata": {
    "id": "jaYtV0QU6NkO"
   },
   "source": [
    "### Geopy\n"
   ]
  },
  {
   "cell_type": "markdown",
   "metadata": {
    "id": "8RKP69p-FrXb"
   },
   "source": [
    "Execute the two cells below to see how we can calculate the distance between two locations. \\\n",
    "Thanks to the [Geopy](https://geopy.readthedocs.io/en/stable/#) library,  this process is quite straightforward."
   ]
  },
  {
   "cell_type": "code",
   "execution_count": null,
   "metadata": {},
   "outputs": [],
   "source": [
    "!pip install geopy\n",
    "from geopy import distance"
   ]
  },
  {
   "cell_type": "code",
   "execution_count": null,
   "metadata": {},
   "outputs": [],
   "source": [
    "newport_ri = [41.49008, -71.312796]\n",
    "cleveland_oh = [41.499498, -81.695391]\n",
    "\n",
    "print(distance.distance(newport_ri, cleveland_oh).km)\n"
   ]
  },
  {
   "cell_type": "markdown",
   "metadata": {
    "id": "jAqwumfvG97A"
   },
   "source": [
    "What is the data type of `distance.distance(newport_ri, cleveland_oh)`?"
   ]
  },
  {
   "cell_type": "code",
   "execution_count": null,
   "metadata": {
    "tags": [
     "challengify"
    ]
   },
   "outputs": [],
   "source": [
    "# YOUR CODE HERE"
   ]
  },
  {
   "cell_type": "markdown",
   "metadata": {
    "id": "OZtnw0L9HXNP"
   },
   "source": [
    "<details>\n",
    "    <summary>Answer 💡</summary>\n",
    "    \n",
    "It's a `geopy.distance.geodesic` object.\n",
    "</details>"
   ]
  },
  {
   "cell_type": "markdown",
   "metadata": {
    "id": "cUf8vO4A6NkO"
   },
   "source": [
    "### Design the search engine\n"
   ]
  },
  {
   "cell_type": "markdown",
   "metadata": {
    "id": "pk29PbbTO63S"
   },
   "source": [
    "Create a function `get_cities_nearby` that takes two arguments:\n",
    "- `customer_location`: a list of coordinates in the format [lat, long]\n",
    "\n",
    "\n",
    "- `radius`: the threshold in km\n",
    "\n",
    "And returns a `list of cities` located near the provided customer_location.\n",
    "\n",
    "If no city has been found, the function should return an empty list."
   ]
  },
  {
   "cell_type": "markdown",
   "metadata": {
    "id": "Lk7-sNiCIyWA"
   },
   "source": [
    "You can use the city of Guangyan in China (coordinates [32.4355, 105.8436]) and a radius of 500km to test your function.\n",
    "\n",
    "You should find that Xi'an and Chengdu are not very far..."
   ]
  },
  {
   "cell_type": "code",
   "execution_count": null,
   "metadata": {
    "tags": [
     "challengify"
    ]
   },
   "outputs": [],
   "source": [
    "# YOUR CODE HERE"
   ]
  },
  {
   "cell_type": "markdown",
   "metadata": {
    "id": "iVqYzYlDJN9q"
   },
   "source": [
    "Congratulations ! 🎉 \\\n",
    "You now have a search function ready for the travel agents to use !"
   ]
  }
 ],
 "metadata": {
  "kernelspec": {
   "display_name": "Python 3",
   "language": "python",
   "name": "python3"
  }
 },
 "nbformat": 4,
 "nbformat_minor": 1
}
