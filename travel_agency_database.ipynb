{
 "cells": [
  {
   "cell_type": "markdown",
   "metadata": {
    "id": "-GZaVHIylfhC"
   },
   "source": [
    "# Travel agency\n",
    "\n"
   ]
  },
  {
   "cell_type": "markdown",
   "metadata": {
    "id": "OXuaW1Ey74eO"
   },
   "source": [
    "Today, you are working at a travel agency. All the cities covered by this agency are stored in a Python dictionary.\n",
    "\n",
    "\n",
    "They need your newly acquired Python skills to develop useful functions!"
   ]
  },
  {
   "cell_type": "markdown",
   "metadata": {
    "id": "Ot9XlCT-8d5w"
   },
   "source": [
    "## Task 1 - Get information for one city\n"
   ]
  },
  {
   "cell_type": "markdown",
   "metadata": {
    "id": "0TklkrRAl8iD"
   },
   "source": [
    "The information about a city is provided in a single dictionary. Let's take a look at an example below.\n",
    "\n",
    "Please note that:\n",
    "- `location` corresponds to latitude and longitude\n",
    "- `prefecture_level` is measured in km<sup>2</sup> (squared kilometers)"
   ]
  },
  {
   "cell_type": "code",
   "execution_count": 25,
   "metadata": {
    "execution": {
     "iopub.execute_input": "2025-07-12T18:37:24.647201Z",
     "iopub.status.busy": "2025-07-12T18:37:24.634159Z",
     "iopub.status.idle": "2025-07-12T18:37:24.747768Z",
     "shell.execute_reply": "2025-07-12T18:37:24.744719Z",
     "shell.execute_reply.started": "2025-07-12T18:37:24.646913Z"
    },
    "id": "L4hhUpgFl9Q1"
   },
   "outputs": [],
   "source": [
    "paris_city = {\"name\": \"Paris\",\n",
    "              \"total_population\": 2102650,\n",
    "              \"continent\": \"Europe\",\n",
    "              \"location\": [48.8566, 2.3522],\n",
    "              \"area\": {\n",
    "                  \"prefecture_level\": 105.4\n",
    "              }}"
   ]
  },
  {
   "cell_type": "code",
   "execution_count": 26,
   "metadata": {
    "execution": {
     "iopub.execute_input": "2025-07-12T18:37:25.549481Z",
     "iopub.status.busy": "2025-07-12T18:37:25.549023Z",
     "iopub.status.idle": "2025-07-12T18:37:25.627548Z",
     "shell.execute_reply": "2025-07-12T18:37:25.623590Z",
     "shell.execute_reply.started": "2025-07-12T18:37:25.549455Z"
    }
   },
   "outputs": [
    {
     "data": {
      "text/plain": [
       "{'name': 'Paris',\n",
       " 'total_population': 2102650,\n",
       " 'continent': 'Europe',\n",
       " 'location': [48.8566, 2.3522],\n",
       " 'area': {'prefecture_level': 105.4}}"
      ]
     },
     "execution_count": 26,
     "metadata": {},
     "output_type": "execute_result"
    }
   ],
   "source": [
    "paris_city"
   ]
  },
  {
   "cell_type": "markdown",
   "metadata": {
    "id": "x6Xa65XVAw_4"
   },
   "source": [
    "What is the data type of the value of `location`? What about `area`?\n"
   ]
  },
  {
   "cell_type": "code",
   "execution_count": 27,
   "metadata": {
    "execution": {
     "iopub.execute_input": "2025-07-12T18:37:27.434073Z",
     "iopub.status.busy": "2025-07-12T18:37:27.433701Z",
     "iopub.status.idle": "2025-07-12T18:37:27.446457Z",
     "shell.execute_reply": "2025-07-12T18:37:27.444720Z",
     "shell.execute_reply.started": "2025-07-12T18:37:27.434049Z"
    },
    "tags": [
     "challengify"
    ]
   },
   "outputs": [
    {
     "data": {
      "text/plain": [
       "dict"
      ]
     },
     "execution_count": 27,
     "metadata": {},
     "output_type": "execute_result"
    }
   ],
   "source": [
    "# YOUR CODE HERE\n",
    "type(paris_city['location'])\n",
    "type(paris_city['area'])"
   ]
  },
  {
   "cell_type": "markdown",
   "metadata": {
    "id": "FTD6Z3lPEStU"
   },
   "source": [
    "How do we get the `prefecture_level` from `paris_city` ?\n",
    "\n",
    "\n"
   ]
  },
  {
   "cell_type": "code",
   "execution_count": 28,
   "metadata": {
    "execution": {
     "iopub.execute_input": "2025-07-12T18:37:29.976783Z",
     "iopub.status.busy": "2025-07-12T18:37:29.976350Z",
     "iopub.status.idle": "2025-07-12T18:37:29.991763Z",
     "shell.execute_reply": "2025-07-12T18:37:29.990189Z",
     "shell.execute_reply.started": "2025-07-12T18:37:29.976760Z"
    },
    "tags": [
     "challengify"
    ]
   },
   "outputs": [
    {
     "data": {
      "text/plain": [
       "105.4"
      ]
     },
     "execution_count": 28,
     "metadata": {},
     "output_type": "execute_result"
    }
   ],
   "source": [
    "# YOUR CODE HERE\n",
    "paris_city['area']['prefecture_level']"
   ]
  },
  {
   "cell_type": "markdown",
   "metadata": {
    "id": "0gbqOyRiEcYX"
   },
   "source": [
    "How do we get the `longitude` from `paris_city` ?\n",
    "\n"
   ]
  },
  {
   "cell_type": "code",
   "execution_count": 29,
   "metadata": {
    "execution": {
     "iopub.execute_input": "2025-07-12T18:37:31.390323Z",
     "iopub.status.busy": "2025-07-12T18:37:31.389611Z",
     "iopub.status.idle": "2025-07-12T18:37:31.402415Z",
     "shell.execute_reply": "2025-07-12T18:37:31.400419Z",
     "shell.execute_reply.started": "2025-07-12T18:37:31.390289Z"
    },
    "tags": [
     "challengify"
    ]
   },
   "outputs": [
    {
     "data": {
      "text/plain": [
       "2.3522"
      ]
     },
     "execution_count": 29,
     "metadata": {},
     "output_type": "execute_result"
    }
   ],
   "source": [
    "# YOUR CODE HERE\n",
    "paris_city['location'][1]"
   ]
  },
  {
   "cell_type": "markdown",
   "metadata": {
    "id": "CRhMbQ-GlfXC"
   },
   "source": [
    "### Create a function\n",
    "\n",
    "Create a function `get_key_value_from_city` that takes two arguments `city` and `key` and outputs the corresponding value for the city.\n",
    "\n",
    "\n",
    "\n",
    "__E.g__: `get_key_value_from_city(city=paris_city, key=\"total_population\")` will output 2102650\n",
    "\n",
    "\n",
    "<u>Note:</u> If a key doesn't exist, the function should return \"_\\<key\\>_ not defined\"\n",
    "    \n",
    "\n",
    "\n",
    "\n"
   ]
  },
  {
   "cell_type": "code",
   "execution_count": 30,
   "metadata": {
    "execution": {
     "iopub.execute_input": "2025-07-12T18:37:33.610851Z",
     "iopub.status.busy": "2025-07-12T18:37:33.610494Z",
     "iopub.status.idle": "2025-07-12T18:37:33.629703Z",
     "shell.execute_reply": "2025-07-12T18:37:33.628683Z",
     "shell.execute_reply.started": "2025-07-12T18:37:33.610828Z"
    },
    "tags": [
     "challengify"
    ]
   },
   "outputs": [
    {
     "data": {
      "text/plain": [
       "2102650"
      ]
     },
     "execution_count": 30,
     "metadata": {},
     "output_type": "execute_result"
    }
   ],
   "source": [
    "# YOUR CODE HERE\n",
    "def get_key_value_from_city(city, key):\n",
    "    if key in city:\n",
    "        return city[key]\n",
    "    else:\n",
    "        return f\"{key} not defined\"\n",
    "\n",
    "get_key_value_from_city(city=paris_city, key=\"total_population\")"
   ]
  },
  {
   "cell_type": "markdown",
   "metadata": {
    "id": "T_pIQ8wW_S5k"
   },
   "source": [
    "## Task 2 - Get information for all cities\n",
    "\n"
   ]
  },
  {
   "cell_type": "markdown",
   "metadata": {
    "id": "E6npEinSHZOr"
   },
   "source": [
    "The travel agency has collected information about multiple cities where it manages accommodations.\n",
    "All the information for these cities is stored in a Python list called `cities`."
   ]
  },
  {
   "cell_type": "markdown",
   "metadata": {
    "id": "2BSHTaHyBB9g"
   },
   "source": [
    "Execute the cell below to load the data"
   ]
  },
  {
   "cell_type": "code",
   "execution_count": 38,
   "metadata": {
    "execution": {
     "iopub.execute_input": "2025-07-12T18:57:49.440487Z",
     "iopub.status.busy": "2025-07-12T18:57:49.439592Z",
     "iopub.status.idle": "2025-07-12T18:57:49.452453Z",
     "shell.execute_reply": "2025-07-12T18:57:49.450715Z",
     "shell.execute_reply.started": "2025-07-12T18:57:49.440449Z"
    }
   },
   "outputs": [],
   "source": [
    "cities = [\n",
    "    {\n",
    "        \"name\": \"Paris\",\n",
    "        \"total_population\": 2102650,\n",
    "        \"continent\": \"Europe\",\n",
    "        \"location\": [48.8566, 2.3522],\n",
    "        \"area\": {\n",
    "            \"prefecture_level\": 105.4\n",
    "        }\n",
    "    },\n",
    "    {\n",
    "        \"name\": \"Xi’an\",\n",
    "        \"total_population\": 12328000,\n",
    "        \"continent\": \"Asia\",\n",
    "        \"location\": [34.2667, 108.9000],\n",
    "        \"area\": {\n",
    "            \"prefecture_level\": 10762\n",
    "        }\n",
    "    },\n",
    "    {\n",
    "        \"name\": \"Chengdu\",\n",
    "        \"total_population\": 14645000,\n",
    "        \"continent\": \"Asia\",\n",
    "        \"location\": [30.6600, 104.0633],\n",
    "        \"area\": {\n",
    "            \"prefecture_level\": 14378\n",
    "        }\n",
    "    },\n",
    "    {\n",
    "        \"name\": \"Los Angeles\",\n",
    "        \"total_population\": 12121244,\n",
    "        \"continent\": \"North America\",\n",
    "        \"location\": [34.1141, -118.4068],\n",
    "        \"area\": {\n",
    "            \"prefecture_level\": 1299\n",
    "        }\n",
    "    },\n",
    "    {\n",
    "        \"name\": \"Brooklyn\",\n",
    "        \"total_population\": 2736074,\n",
    "        \"continent\": \"North America\",\n",
    "        \"location\": [40.6501, -73.9496],\n",
    "        \"area\": {\n",
    "            \"prefecture_level\": 180\n",
    "        }\n",
    "    }\n",
    "]"
   ]
  },
  {
   "cell_type": "markdown",
   "metadata": {
    "id": "KQGOVtGB6rAR"
   },
   "source": [
    "How many cities do they have?"
   ]
  },
  {
   "cell_type": "code",
   "execution_count": 39,
   "metadata": {
    "execution": {
     "iopub.execute_input": "2025-07-12T18:57:51.991073Z",
     "iopub.status.busy": "2025-07-12T18:57:51.990067Z",
     "iopub.status.idle": "2025-07-12T18:57:52.000310Z",
     "shell.execute_reply": "2025-07-12T18:57:51.998789Z",
     "shell.execute_reply.started": "2025-07-12T18:57:51.991042Z"
    },
    "tags": [
     "challengify"
    ]
   },
   "outputs": [
    {
     "data": {
      "text/plain": [
       "5"
      ]
     },
     "execution_count": 39,
     "metadata": {},
     "output_type": "execute_result"
    }
   ],
   "source": [
    "# YOUR CODE HERE\n",
    "len(cities)"
   ]
  },
  {
   "cell_type": "markdown",
   "metadata": {
    "id": "Go4ukXAz6NkN"
   },
   "source": [
    "### Reading values\n",
    "\n"
   ]
  },
  {
   "cell_type": "markdown",
   "metadata": {
    "id": "khUbLMYTL-CN"
   },
   "source": [
    "By utilizing your previous function `get_key_value_from_city` create a new one that will take two arguments: a `city_name` and a `key`.\n",
    "\n",
    "If the city is not in the list, the function should return \"*city* doesn't exist or is not covered\".\n",
    "\n",
    "Test your function with multiple examples."
   ]
  },
  {
   "cell_type": "code",
   "execution_count": 40,
   "metadata": {
    "execution": {
     "iopub.execute_input": "2025-07-12T18:57:54.892243Z",
     "iopub.status.busy": "2025-07-12T18:57:54.891692Z",
     "iopub.status.idle": "2025-07-12T18:57:54.901450Z",
     "shell.execute_reply": "2025-07-12T18:57:54.899851Z",
     "shell.execute_reply.started": "2025-07-12T18:57:54.892213Z"
    },
    "tags": [
     "challengify"
    ]
   },
   "outputs": [
    {
     "name": "stdout",
     "output_type": "stream",
     "text": [
      "Europe\n"
     ]
    }
   ],
   "source": [
    "# YOUR CODE HERE\n",
    "def get_value_by_city_name(city_name, key):\n",
    "    for city in cities:\n",
    "        if city.get(\"name\") == city_name:\n",
    "            return get_key_value_from_city(city, key)\n",
    "        else:\n",
    "            return \"city doesn't exist or is not covered\"\n",
    "\n",
    "print(get_value_by_city_name(\"Paris\", \"continent\"))"
   ]
  },
  {
   "cell_type": "markdown",
   "metadata": {
    "id": "dKjDW-OY6NkN"
   },
   "source": [
    "### Updating values\n"
   ]
  },
  {
   "cell_type": "markdown",
   "metadata": {
    "id": "co-Z53zYCnAN"
   },
   "source": [
    "Sometimes, city information can be incorrect or requires updates.\n",
    "\n",
    "Create a `modify_city_key_value` function that replaces an existing key's value with a new one. \\\n",
    "It takes three arguments: a `city_name`, a `key` and a new `value` to assign to the key.\n",
    "\n",
    "The function will generate a text message indicating one of the following scenarios:\n",
    "\n",
    "- If the city doesn't exist or is not covered: \"*city* doesn't exist or is not covered.\"\n",
    "- If the provided key doesn't exist: \"*key* doesn't exist.\"\n",
    "- If the key has been successfully updated for the city: \"*key* has been updated for *city*.\""
   ]
  },
  {
   "cell_type": "code",
   "execution_count": 41,
   "metadata": {
    "execution": {
     "iopub.execute_input": "2025-07-12T18:57:57.764327Z",
     "iopub.status.busy": "2025-07-12T18:57:57.763983Z",
     "iopub.status.idle": "2025-07-12T18:57:57.772267Z",
     "shell.execute_reply": "2025-07-12T18:57:57.770736Z",
     "shell.execute_reply.started": "2025-07-12T18:57:57.764304Z"
    },
    "tags": [
     "challengify"
    ]
   },
   "outputs": [],
   "source": [
    "# YOUR CODE HERE\n",
    "def modify_city_key_value(city_name, key, new_value):\n",
    "    for city in cities:\n",
    "        if city.get(\"name\") == city_name:\n",
    "            if key in city:\n",
    "                city[key] = new_value\n",
    "                return \"key has been updated for city.\"\n",
    "            else:\n",
    "                return \"key doesn't exist.\"\n",
    "    return \"city doesn't exist or is not covered.\""
   ]
  },
  {
   "cell_type": "markdown",
   "metadata": {
    "id": "YfHEZCpEFMi9"
   },
   "source": [
    "## Task 3 - Create a search engine"
   ]
  },
  {
   "cell_type": "markdown",
   "metadata": {
    "id": "3pKSC0beFRch"
   },
   "source": [
    "It is quite common for customers to seek destinations that are not far from their current location in order to minimize transportation costs.\n",
    "\n",
    "\n",
    "The travel agency requires your assistance in developing a function that can provide a list of nearby cities."
   ]
  },
  {
   "cell_type": "markdown",
   "metadata": {
    "id": "jaYtV0QU6NkO"
   },
   "source": [
    "### Geopy\n"
   ]
  },
  {
   "cell_type": "markdown",
   "metadata": {
    "id": "8RKP69p-FrXb"
   },
   "source": [
    "Execute the two cells below to see how we can calculate the distance between two locations. \\\n",
    "Thanks to the [Geopy](https://geopy.readthedocs.io/en/stable/#) library,  this process is quite straightforward."
   ]
  },
  {
   "cell_type": "code",
   "execution_count": 42,
   "metadata": {
    "execution": {
     "iopub.execute_input": "2025-07-12T18:58:02.229896Z",
     "iopub.status.busy": "2025-07-12T18:58:02.229586Z",
     "iopub.status.idle": "2025-07-12T18:58:04.160426Z",
     "shell.execute_reply": "2025-07-12T18:58:04.158987Z",
     "shell.execute_reply.started": "2025-07-12T18:58:02.229871Z"
    }
   },
   "outputs": [
    {
     "name": "stdout",
     "output_type": "stream",
     "text": [
      "Requirement already satisfied: geopy in /home/darlantane/.pyenv/versions/3.12.9/envs/lewagon/lib/python3.12/site-packages (2.4.1)\n",
      "Requirement already satisfied: geographiclib<3,>=1.52 in /home/darlantane/.pyenv/versions/3.12.9/envs/lewagon/lib/python3.12/site-packages (from geopy) (2.0)\n"
     ]
    }
   ],
   "source": [
    "!pip install geopy\n",
    "from geopy import distance"
   ]
  },
  {
   "cell_type": "code",
   "execution_count": 43,
   "metadata": {
    "execution": {
     "iopub.execute_input": "2025-07-12T18:58:04.162735Z",
     "iopub.status.busy": "2025-07-12T18:58:04.162380Z",
     "iopub.status.idle": "2025-07-12T18:58:04.173224Z",
     "shell.execute_reply": "2025-07-12T18:58:04.171092Z",
     "shell.execute_reply.started": "2025-07-12T18:58:04.162707Z"
    }
   },
   "outputs": [
    {
     "name": "stdout",
     "output_type": "stream",
     "text": [
      "866.4554329098685\n"
     ]
    }
   ],
   "source": [
    "newport_ri = [41.49008, -71.312796]\n",
    "cleveland_oh = [41.499498, -81.695391]\n",
    "\n",
    "print(distance.distance(newport_ri, cleveland_oh).km)\n"
   ]
  },
  {
   "cell_type": "markdown",
   "metadata": {
    "id": "jAqwumfvG97A"
   },
   "source": [
    "What is the data type of `distance.distance(newport_ri, cleveland_oh)`?"
   ]
  },
  {
   "cell_type": "code",
   "execution_count": 37,
   "metadata": {
    "execution": {
     "iopub.execute_input": "2025-07-12T18:37:51.160437Z",
     "iopub.status.busy": "2025-07-12T18:37:51.159728Z",
     "iopub.status.idle": "2025-07-12T18:37:51.169100Z",
     "shell.execute_reply": "2025-07-12T18:37:51.167638Z",
     "shell.execute_reply.started": "2025-07-12T18:37:51.160407Z"
    },
    "tags": [
     "challengify"
    ]
   },
   "outputs": [
    {
     "data": {
      "text/plain": [
       "geopy.distance.geodesic"
      ]
     },
     "execution_count": 37,
     "metadata": {},
     "output_type": "execute_result"
    }
   ],
   "source": [
    "# YOUR CODE HERE\n",
    "type(distance.distance(newport_ri, cleveland_oh))"
   ]
  },
  {
   "cell_type": "markdown",
   "metadata": {
    "id": "OZtnw0L9HXNP"
   },
   "source": [
    "<details>\n",
    "    <summary>Answer 💡</summary>\n",
    "    \n",
    "It's a `geopy.distance.geodesic` object.\n",
    "</details>"
   ]
  },
  {
   "cell_type": "markdown",
   "metadata": {
    "id": "cUf8vO4A6NkO"
   },
   "source": [
    "### Design the search engine\n"
   ]
  },
  {
   "cell_type": "markdown",
   "metadata": {
    "id": "pk29PbbTO63S"
   },
   "source": [
    "Create a function `get_cities_nearby` that takes two arguments:\n",
    "- `customer_location`: a list of coordinates in the format [lat, long]\n",
    "\n",
    "\n",
    "- `radius`: the threshold in km\n",
    "\n",
    "And returns a `list of cities` located near the provided customer_location.\n",
    "\n",
    "If no city has been found, the function should return an empty list."
   ]
  },
  {
   "cell_type": "markdown",
   "metadata": {
    "id": "Lk7-sNiCIyWA"
   },
   "source": [
    "You can use the city of Guangyan in China (coordinates [32.4355, 105.8436]) and a radius of 500km to test your function.\n",
    "\n",
    "You should find that Xi'an and Chengdu are not very far..."
   ]
  },
  {
   "cell_type": "code",
   "execution_count": null,
   "metadata": {
    "tags": [
     "challengify"
    ]
   },
   "outputs": [],
   "source": [
    "# YOUR CODE HERE"
   ]
  },
  {
   "cell_type": "markdown",
   "metadata": {
    "id": "iVqYzYlDJN9q"
   },
   "source": [
    "Congratulations ! 🎉 \\\n",
    "You now have a search function ready for the travel agents to use !"
   ]
  }
 ],
 "metadata": {
  "kernelspec": {
   "display_name": "Python 3 (ipykernel)",
   "language": "python",
   "name": "python3"
  },
  "language_info": {
   "codemirror_mode": {
    "name": "ipython",
    "version": 3
   },
   "file_extension": ".py",
   "mimetype": "text/x-python",
   "name": "python",
   "nbconvert_exporter": "python",
   "pygments_lexer": "ipython3",
   "version": "3.12.9"
  }
 },
 "nbformat": 4,
 "nbformat_minor": 4
}
